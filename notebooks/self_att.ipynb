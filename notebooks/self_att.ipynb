{
 "cells": [
  {
   "cell_type": "code",
   "execution_count": 35,
   "metadata": {},
   "outputs": [],
   "source": [
    "import torch"
   ]
  },
  {
   "cell_type": "code",
   "execution_count": 36,
   "metadata": {},
   "outputs": [
    {
     "name": "stdout",
     "output_type": "stream",
     "text": [
      "tensor([[-0.3803,  0.7787,  0.3866],\n",
      "        [ 0.5394,  0.0421, -0.5968],\n",
      "        [ 0.2035,  0.1384, -0.1790],\n",
      "        [ 0.6580, -0.8992,  0.7342],\n",
      "        [ 0.5394,  0.0421, -0.5968]], grad_fn=<EmbeddingBackward0>)\n"
     ]
    }
   ],
   "source": [
    "embedding = torch.nn.Embedding(6, 3)\n",
    "\n",
    "# create a sentence of length 5 represented by 3-dimensional embeddings\n",
    "sentence = torch.tensor([1, 2, 4, 3, 2], dtype=torch.long)\n",
    "embedded_sentence = embedding(sentence)\n",
    "print(embedded_sentence)"
   ]
  },
  {
   "cell_type": "code",
   "execution_count": 37,
   "metadata": {},
   "outputs": [
    {
     "name": "stdout",
     "output_type": "stream",
     "text": [
      "tensor([-0.0388,  0.2224,  0.0926, -0.1220,  0.2224], grad_fn=<CopySlices>)\n",
      "sum = 0.38\n"
     ]
    }
   ],
   "source": [
    "# select the query word - for example word #3 in the sentence\n",
    "\n",
    "qry_idx = 2\n",
    "qry = embedded_sentence[qry_idx]\n",
    "\n",
    "attention_scores_qry = torch.empty(sentence.shape[0])\n",
    "# each word in the sentence is compared to the query word\n",
    "# this is done using a dot product\n",
    "for i, word in enumerate(embedded_sentence):\n",
    "    attention_scores_qry[i] = torch.dot(qry, word)\n",
    "\n",
    "print(attention_scores_qry) # unnormalized dot product attention scores\n",
    "print(f\"sum = {attention_scores_qry.sum():.2f}\")"
   ]
  },
  {
   "cell_type": "code",
   "execution_count": 38,
   "metadata": {},
   "outputs": [
    {
     "name": "stdout",
     "output_type": "stream",
     "text": [
      "tensor([-0.1030,  0.5905,  0.2458, -0.3238,  0.5905], grad_fn=<DivBackward0>)\n",
      "sum = 1.00\n"
     ]
    }
   ],
   "source": [
    "# normalizing the attention scores\n",
    "\n",
    "attention_scores_qry_norm = attention_scores_qry / torch.sum(attention_scores_qry)\n",
    "print(attention_scores_qry_norm) # normalized dot product attention scores\n",
    "print(f\"sum = {attention_scores_qry_norm.sum():.2f}\") # ok"
   ]
  },
  {
   "cell_type": "code",
   "execution_count": 39,
   "metadata": {},
   "outputs": [
    {
     "name": "stdout",
     "output_type": "stream",
     "text": [
      "tensor([0.1768, 0.2295, 0.2016, 0.1627, 0.2295], grad_fn=<SoftmaxBackward0>)\n",
      "sum = 1.00\n"
     ]
    }
   ],
   "source": [
    "# normalizing the attention scores using softmax\n",
    "\n",
    "attention_scores_qry_softmax = torch.softmax(attention_scores_qry, dim=0)\n",
    "print(attention_scores_qry_softmax) # normalized dot product attention scores\n",
    "print(f\"sum = {attention_scores_qry_softmax.sum():.2f}\") # ok"
   ]
  }
 ],
 "metadata": {
  "kernelspec": {
   "display_name": ".venv",
   "language": "python",
   "name": "python3"
  },
  "language_info": {
   "codemirror_mode": {
    "name": "ipython",
    "version": 3
   },
   "file_extension": ".py",
   "mimetype": "text/x-python",
   "name": "python",
   "nbconvert_exporter": "python",
   "pygments_lexer": "ipython3",
   "version": "3.12.4"
  }
 },
 "nbformat": 4,
 "nbformat_minor": 2
}
