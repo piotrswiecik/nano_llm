{
 "cells": [
  {
   "cell_type": "code",
   "execution_count": 1,
   "metadata": {},
   "outputs": [],
   "source": [
    "import re"
   ]
  },
  {
   "cell_type": "code",
   "execution_count": 2,
   "metadata": {},
   "outputs": [
    {
     "name": "stdout",
     "output_type": "stream",
     "text": [
      "# of characters including specials: 20479\n",
      "# of tokens:  9235\n",
      "# of tokens after removing empty strings:  4690\n",
      "Vocabulary size:  1130\n",
      "Updated vocabulary size:  1132\n"
     ]
    }
   ],
   "source": [
    "with open(\"../assets/corpus_01.txt\", \"r\", encoding=\"utf-8\") as f:\n",
    "    raw_text = f.read()\n",
    "\n",
    "print(f\"# of characters including specials: {len(raw_text)}\")\n",
    "\n",
    "preprocessed_text = re.split(r'([,.:;?_!\"()\\']|--|\\s)', raw_text)\n",
    "print(\"# of tokens: \", len(preprocessed_text))\n",
    "\n",
    "# removing empty strings\n",
    "preprocessed_text = [token for token in preprocessed_text if token.strip()]\n",
    "\n",
    "print(\"# of tokens after removing empty strings: \", len(preprocessed_text))\n",
    "\n",
    "all_words = sorted(set(preprocessed_text))\n",
    "vocab_size = len(all_words)\n",
    "print(\"Vocabulary size: \", vocab_size)\n",
    "\n",
    "vocab = {token: idx for idx, token in enumerate(all_words)}\n",
    "vocab.update({\"<endoftext>\": len(vocab), \"<unk>\": len(vocab) + 1})\n",
    "vocab_size = len(vocab)\n",
    "print(\"Updated vocabulary size: \", vocab_size)"
   ]
  },
  {
   "cell_type": "code",
   "execution_count": 3,
   "metadata": {},
   "outputs": [],
   "source": [
    "import pickle\n",
    "\n",
    "with open(\"../assets/vocab.pkl\", \"wb\") as f:\n",
    "    f.write(pickle.dumps(vocab))"
   ]
  },
  {
   "cell_type": "code",
   "execution_count": 4,
   "metadata": {},
   "outputs": [
    {
     "name": "stdout",
     "output_type": "stream",
     "text": [
      "encoded = [999, 988, 115, 584]\n",
      "decoded = this the a is\n"
     ]
    }
   ],
   "source": [
    "from nanollm.token import RegexTokenizer\n",
    "\n",
    "with open(\"../assets/vocab.pkl\", \"rb\") as f:\n",
    "    voc = pickle.loads(f.read())\n",
    "\n",
    "tokenizer = RegexTokenizer(voc)\n",
    "\n",
    "encoded = tokenizer.tokenize(\"this the a is\")\n",
    "print(f\"encoded = {encoded}\")\n",
    "decoded = tokenizer.detokenize(encoded)\n",
    "print(f\"decoded = {decoded}\")"
   ]
  },
  {
   "cell_type": "code",
   "execution_count": 7,
   "metadata": {},
   "outputs": [
    {
     "name": "stdout",
     "output_type": "stream",
     "text": [
      "encoded = [15496, 11, 995, 532, 428, 318, 257, 1332, 0]\n",
      "decoded = Hello, world - this is a test!\n"
     ]
    }
   ],
   "source": [
    "from nanollm.token import BPETokenizer\n",
    "\n",
    "bpe = BPETokenizer()\n",
    "t = bpe.tokenize(\"Hello, world - this is a test!\")\n",
    "print(f\"encoded = {t}\")\n",
    "\n",
    "d = bpe.detokenize(t)\n",
    "print(f\"decoded = {d}\")"
   ]
  },
  {
   "cell_type": "code",
   "execution_count": null,
   "metadata": {},
   "outputs": [],
   "source": []
  }
 ],
 "metadata": {
  "kernelspec": {
   "display_name": ".venv",
   "language": "python",
   "name": "python3"
  },
  "language_info": {
   "codemirror_mode": {
    "name": "ipython",
    "version": 3
   },
   "file_extension": ".py",
   "mimetype": "text/x-python",
   "name": "python",
   "nbconvert_exporter": "python",
   "pygments_lexer": "ipython3",
   "version": "3.12.4"
  }
 },
 "nbformat": 4,
 "nbformat_minor": 2
}
