{
 "cells": [
  {
   "cell_type": "code",
   "execution_count": 1,
   "metadata": {},
   "outputs": [],
   "source": [
    "with open(\"assets/corpus_01.txt\", \"r\") as f:\n",
    "    text = f.read()"
   ]
  },
  {
   "cell_type": "code",
   "execution_count": 6,
   "metadata": {},
   "outputs": [],
   "source": [
    "from nanollm.data import create_dataloader\n",
    "\n",
    "dataloader = create_dataloader(\n",
    "    text,\n",
    "    batch_size=8,\n",
    "    max_length=4,\n",
    "    stride=1,\n",
    "    shuffle=False,\n",
    "    drop_last=True\n",
    ")"
   ]
  },
  {
   "cell_type": "code",
   "execution_count": 7,
   "metadata": {},
   "outputs": [],
   "source": [
    "sample_batch = next(iter(dataloader))"
   ]
  },
  {
   "cell_type": "code",
   "execution_count": 8,
   "metadata": {},
   "outputs": [
    {
     "data": {
      "text/plain": [
       "[tensor([[   40,   367,  2885,  1464],\n",
       "         [  367,  2885,  1464,  1807],\n",
       "         [ 2885,  1464,  1807,  3619],\n",
       "         [ 1464,  1807,  3619,   402],\n",
       "         [ 1807,  3619,   402,   271],\n",
       "         [ 3619,   402,   271, 10899],\n",
       "         [  402,   271, 10899,  2138],\n",
       "         [  271, 10899,  2138,   257]]),\n",
       " tensor([[  367,  2885,  1464,  1807],\n",
       "         [ 2885,  1464,  1807,  3619],\n",
       "         [ 1464,  1807,  3619,   402],\n",
       "         [ 1807,  3619,   402,   271],\n",
       "         [ 3619,   402,   271, 10899],\n",
       "         [  402,   271, 10899,  2138],\n",
       "         [  271, 10899,  2138,   257],\n",
       "         [10899,  2138,   257,  7026]])]"
      ]
     },
     "execution_count": 8,
     "metadata": {},
     "output_type": "execute_result"
    }
   ],
   "source": [
    "sample_batch # ok!"
   ]
  },
  {
   "cell_type": "code",
   "execution_count": null,
   "metadata": {},
   "outputs": [],
   "source": []
  }
 ],
 "metadata": {
  "kernelspec": {
   "display_name": ".venv",
   "language": "python",
   "name": "python3"
  },
  "language_info": {
   "codemirror_mode": {
    "name": "ipython",
    "version": 3
   },
   "file_extension": ".py",
   "mimetype": "text/x-python",
   "name": "python",
   "nbconvert_exporter": "python",
   "pygments_lexer": "ipython3",
   "version": "3.12.4"
  }
 },
 "nbformat": 4,
 "nbformat_minor": 2
}
