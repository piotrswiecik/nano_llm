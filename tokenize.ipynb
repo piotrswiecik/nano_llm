{
 "cells": [
  {
   "cell_type": "code",
   "execution_count": 2,
   "metadata": {},
   "outputs": [],
   "source": [
    "import re"
   ]
  },
  {
   "cell_type": "code",
   "execution_count": 10,
   "metadata": {},
   "outputs": [
    {
     "name": "stdout",
     "output_type": "stream",
     "text": [
      "# of characters including specials: 20479\n",
      "# of tokens:  9235\n",
      "# of tokens after removing empty strings:  4690\n",
      "Vocabulary size:  1130\n",
      "Updated vocabulary size:  1132\n"
     ]
    }
   ],
   "source": [
    "with open(\"assets/corpus_01.txt\", \"r\", encoding=\"utf-8\") as f:\n",
    "    raw_text = f.read()\n",
    "\n",
    "print(f\"# of characters including specials: {len(raw_text)}\")\n",
    "\n",
    "preprocessed_text = re.split(r'([,.:;?_!\"()\\']|--|\\s)', raw_text)\n",
    "print(\"# of tokens: \", len(preprocessed_text))\n",
    "\n",
    "# removing empty strings\n",
    "preprocessed_text = [token for token in preprocessed_text if token.strip()]\n",
    "\n",
    "print(\"# of tokens after removing empty strings: \", len(preprocessed_text))\n",
    "\n",
    "all_words = sorted(set(preprocessed_text))\n",
    "vocab_size = len(all_words)\n",
    "print(\"Vocabulary size: \", vocab_size)\n",
    "\n",
    "vocab = {token: idx for idx, token in enumerate(all_words)}\n",
    "vocab.update({\"<endoftext>\": len(vocab), \"<unk>\": len(vocab) + 1})\n",
    "vocab_size = len(vocab)\n",
    "print(\"Updated vocabulary size: \", vocab_size)"
   ]
  },
  {
   "cell_type": "code",
   "execution_count": 13,
   "metadata": {},
   "outputs": [],
   "source": [
    "import pickle\n",
    "\n",
    "with open(\"assets/vocab.pkl\", \"wb\") as f:\n",
    "    pickle.dump(vocab, f)"
   ]
  }
 ],
 "metadata": {
  "kernelspec": {
   "display_name": ".venv",
   "language": "python",
   "name": "python3"
  },
  "language_info": {
   "codemirror_mode": {
    "name": "ipython",
    "version": 3
   },
   "file_extension": ".py",
   "mimetype": "text/x-python",
   "name": "python",
   "nbconvert_exporter": "python",
   "pygments_lexer": "ipython3",
   "version": "3.12.4"
  }
 },
 "nbformat": 4,
 "nbformat_minor": 2
}
